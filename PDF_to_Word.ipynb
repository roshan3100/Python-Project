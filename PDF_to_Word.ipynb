{
 "cells": [
  {
   "cell_type": "code",
   "execution_count": 4,
   "id": "9661e5f2",
   "metadata": {},
   "outputs": [
    {
     "name": "stderr",
     "output_type": "stream",
     "text": [
      "[INFO] Start to convert C:/Users/admin/OneDrive/Desktop/Roshan_N.pdf\n",
      "[INFO] \u001b[1;36m[1/4] Opening document...\u001b[0m\n",
      "[INFO] \u001b[1;36m[2/4] Analyzing document...\u001b[0m\n",
      "[INFO] \u001b[1;36m[3/4] Parsing pages...\u001b[0m\n",
      "[INFO] (1/1) Page 1\n",
      "[INFO] \u001b[1;36m[4/4] Creating pages...\u001b[0m\n",
      "[INFO] (1/1) Page 1\n",
      "[INFO] Terminated in 4.66s.\n"
     ]
    }
   ],
   "source": [
    "import tkinter as tk\n",
    "from tkinter import filedialog, messagebox\n",
    "from pdf2docx import Converter\n",
    "\n",
    "def pdf_to_doc(pdf_path, doc_path):\n",
    "    cv = Converter(pdf_path)\n",
    "    cv.convert(doc_path, start=0, end=None)\n",
    "    cv.close()\n",
    "\n",
    "def convert_pdf_to_doc():\n",
    "    pdf_file = filedialog.askopenfilename(filetypes=[(\"PDF Files\", \"*.pdf\")])\n",
    "    if not pdf_file:\n",
    "        return\n",
    "\n",
    "    doc_file = filedialog.asksaveasfilename(defaultextension=\".docx\", filetypes=[(\"Word Documents\", \"*.docx\")])\n",
    "    if not doc_file:\n",
    "        return\n",
    "\n",
    "    pdf_to_doc(pdf_file, doc_file)\n",
    "    messagebox.showinfo(\"Conversion Complete\", \"PDF to DOCX conversion completed successfully!\")\n",
    "\n",
    "# Create the GUI window\n",
    "root = tk.Tk()\n",
    "root.title(\"PDF to DOCX Converter\")\n",
    "\n",
    "# Create a button to trigger the conversion\n",
    "convert_button = tk.Button(root, text=\"Convert PDF to DOCX\", command=convert_pdf_to_doc)\n",
    "convert_button.pack(pady=20)\n",
    "\n",
    "# Start the GUI event loop\n",
    "root.mainloop()\n"
   ]
  },
  {
   "cell_type": "code",
   "execution_count": null,
   "id": "e13f1d85",
   "metadata": {},
   "outputs": [],
   "source": []
  }
 ],
 "metadata": {
  "kernelspec": {
   "display_name": "Python 3 (ipykernel)",
   "language": "python",
   "name": "python3"
  },
  "language_info": {
   "codemirror_mode": {
    "name": "ipython",
    "version": 3
   },
   "file_extension": ".py",
   "mimetype": "text/x-python",
   "name": "python",
   "nbconvert_exporter": "python",
   "pygments_lexer": "ipython3",
   "version": "3.10.11"
  }
 },
 "nbformat": 4,
 "nbformat_minor": 5
}
