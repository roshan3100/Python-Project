{
 "cells": [
  {
   "cell_type": "code",
   "execution_count": 5,
   "id": "a0333cc5",
   "metadata": {},
   "outputs": [
    {
     "name": "stderr",
     "output_type": "stream",
     "text": [
      "[nltk_data] Downloading package vader_lexicon to\n",
      "[nltk_data]     C:\\Users\\admin\\AppData\\Roaming\\nltk_data...\n",
      "[nltk_data]   Package vader_lexicon is already up-to-date!\n"
     ]
    }
   ],
   "source": [
    "import tkinter as tk\n",
    "from tkinter import messagebox\n",
    "import nltk\n",
    "from nltk.sentiment import SentimentIntensityAnalyzer\n",
    "\n",
    "# Download NLTK's VADER lexicon for sentiment analysis\n",
    "nltk.download('vader_lexicon')\n",
    "\n",
    "# Create a SentimentIntensityAnalyzer object\n",
    "sia = SentimentIntensityAnalyzer()\n",
    "\n",
    "def analyze_sentiment(text):\n",
    "    sentiment_scores = sia.polarity_scores(text)\n",
    "    compound_score = sentiment_scores['compound']\n",
    "    if compound_score >= 0.05:\n",
    "        sentiment = \"Positive\"\n",
    "    elif compound_score <= -0.05:\n",
    "        sentiment = \"Negative\"\n",
    "    else:\n",
    "        sentiment = \"Neutral\"\n",
    "    return sentiment, sentiment_scores\n",
    "\n",
    "def analyze_button_click():\n",
    "    input_text = input_text_widget.get(\"1.0\", \"end-1c\")\n",
    "    if input_text.strip() == \"\":\n",
    "        messagebox.showerror(\"Error\", \"Please enter some text for analysis.\")\n",
    "        return\n",
    "    sentiment, scores = analyze_sentiment(input_text)\n",
    "    result_text = f\"Sentiment: {sentiment}\\nScores: {scores}\"\n",
    "    result_widget.config(state=tk.NORMAL)\n",
    "    result_widget.delete(\"1.0\", tk.END)\n",
    "    result_widget.insert(tk.END, result_text)\n",
    "    result_widget.config(state=tk.DISABLED)\n",
    "\n",
    "# Create the main application window\n",
    "app = tk.Tk()\n",
    "app.title(\"Sentiment Analysis\")\n",
    "\n",
    "# Input text widget\n",
    "input_text_widget = tk.Text(app, height=10, width=40)\n",
    "input_text_widget.pack(padx=10, pady=10)\n",
    "\n",
    "# Analyze button\n",
    "analyze_button = tk.Button(app, text=\"Analyze Sentiment\", command=analyze_button_click)\n",
    "analyze_button.pack()\n",
    "\n",
    "# Result widget\n",
    "result_widget = tk.Text(app, height=5, width=40, state=tk.DISABLED)\n",
    "result_widget.pack(padx=10, pady=10)\n",
    "\n",
    "# Start the GUI event loop\n",
    "app.mainloop()\n"
   ]
  },
  {
   "cell_type": "code",
   "execution_count": null,
   "id": "1ff4e56f",
   "metadata": {},
   "outputs": [],
   "source": []
  }
 ],
 "metadata": {
  "kernelspec": {
   "display_name": "Python 3 (ipykernel)",
   "language": "python",
   "name": "python3"
  },
  "language_info": {
   "codemirror_mode": {
    "name": "ipython",
    "version": 3
   },
   "file_extension": ".py",
   "mimetype": "text/x-python",
   "name": "python",
   "nbconvert_exporter": "python",
   "pygments_lexer": "ipython3",
   "version": "3.10.11"
  }
 },
 "nbformat": 4,
 "nbformat_minor": 5
}
