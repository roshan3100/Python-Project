{
 "cells": [
  {
   "cell_type": "code",
   "execution_count": 8,
   "id": "f073d8d0",
   "metadata": {},
   "outputs": [],
   "source": [
    "import tkinter as tk\n",
    "from tkinter import filedialog\n",
    "from PIL import Image, ImageTk\n",
    "import pytesseract\n",
    "\n",
    "# Create the main application window\n",
    "app = tk.Tk()\n",
    "app.title(\"Image Text Extraction\")\n",
    "pytesseract.pytesseract.tesseract_cmd = r\"C:\\Program Files\\Tesseract-OCR\\tesseract.exe\"\n",
    "# Function to open an image file\n",
    "def open_image():\n",
    "    global file_path\n",
    "    file_path = filedialog.askopenfilename(filetypes=[(\"Image Files\", \"*.png *.jpg *.jpeg *.bmp *.gif\")])\n",
    "    if file_path:\n",
    "        img = Image.open(file_path)\n",
    "        img.thumbnail((300, 300))\n",
    "        img = ImageTk.PhotoImage(img)\n",
    "        image_label.config(image=img)\n",
    "        image_label.image = img\n",
    "        process_button.config(state=tk.NORMAL)\n",
    "\n",
    "# Function to process the image and extract text\n",
    "def process_image():\n",
    "    img = Image.open(file_path)\n",
    "    text = pytesseract.image_to_string(img)\n",
    "    output_text.delete(1.0, tk.END)\n",
    "    output_text.insert(tk.END, text)\n",
    "\n",
    "# Create GUI elements\n",
    "open_button = tk.Button(app, text=\"Open Image\", command=open_image)\n",
    "process_button = tk.Button(app, text=\"Process Image\", command=process_image, state=tk.DISABLED)\n",
    "\n",
    "image_label = tk.Label(app)\n",
    "output_text = tk.Text(app, height=10, width=40)\n",
    "\n",
    "# Place GUI elements on the window\n",
    "open_button.pack(pady=10)\n",
    "image_label.pack()\n",
    "process_button.pack(pady=10)\n",
    "output_text.pack(padx=10, pady=10)\n",
    "\n",
    "# Run the main event loop\n",
    "app.mainloop()\n"
   ]
  },
  {
   "cell_type": "code",
   "execution_count": null,
   "id": "8593e3e4",
   "metadata": {},
   "outputs": [],
   "source": []
  }
 ],
 "metadata": {
  "kernelspec": {
   "display_name": "Python 3 (ipykernel)",
   "language": "python",
   "name": "python3"
  },
  "language_info": {
   "codemirror_mode": {
    "name": "ipython",
    "version": 3
   },
   "file_extension": ".py",
   "mimetype": "text/x-python",
   "name": "python",
   "nbconvert_exporter": "python",
   "pygments_lexer": "ipython3",
   "version": "3.10.11"
  }
 },
 "nbformat": 4,
 "nbformat_minor": 5
}
