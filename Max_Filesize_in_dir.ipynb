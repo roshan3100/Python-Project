{
 "cells": [
  {
   "cell_type": "code",
   "execution_count": 1,
   "id": "3cba1394",
   "metadata": {},
   "outputs": [],
   "source": [
    "import os\n",
    "import tkinter as tk\n",
    "from tkinter import filedialog\n",
    "\n",
    "def find_largest_files(folder_path, num_files=5):\n",
    "    file_sizes = []\n",
    "\n",
    "    for root, _, files in os.walk(folder_path):\n",
    "        for file in files:\n",
    "            file_path = os.path.join(root, file)\n",
    "            file_size = os.path.getsize(file_path)\n",
    "            file_sizes.append((file_path, file_size))\n",
    "\n",
    "    file_sizes.sort(key=lambda x: x[1], reverse=True)\n",
    "    return file_sizes[:num_files]\n",
    "\n",
    "def browse_folder():\n",
    "    folder_path = filedialog.askdirectory()\n",
    "    if folder_path:\n",
    "        largest_files = find_largest_files(folder_path, num_files=5)\n",
    "        result_text = \"Top 5 Largest Files:\\n\\n\"\n",
    "        for file_path, file_size in largest_files:\n",
    "            file_size_mb = file_size / (1024 * 1024)  # Convert to MB\n",
    "            result_text += f\"File: {file_path}\\nSize: {file_size_mb:.2f} MB\\n\\n\"\n",
    "        result_label.config(text=result_text)\n",
    "\n",
    "# Create the main window\n",
    "root = tk.Tk()\n",
    "root.title(\"Top 5 Largest Files Finder\")\n",
    "\n",
    "# Create and place widgets\n",
    "instruction_label = tk.Label(root, text=\"Select a folder:\")\n",
    "instruction_label.pack(pady=10)\n",
    "\n",
    "browse_button = tk.Button(root, text=\"Browse\", command=browse_folder)\n",
    "browse_button.pack()\n",
    "\n",
    "result_label = tk.Label(root, text=\"\")\n",
    "result_label.pack(pady=20)\n",
    "\n",
    "# Start the GUI event loop\n",
    "root.mainloop()\n"
   ]
  },
  {
   "cell_type": "code",
   "execution_count": null,
   "id": "380643b7",
   "metadata": {},
   "outputs": [],
   "source": []
  }
 ],
 "metadata": {
  "kernelspec": {
   "display_name": "Python 3 (ipykernel)",
   "language": "python",
   "name": "python3"
  },
  "language_info": {
   "codemirror_mode": {
    "name": "ipython",
    "version": 3
   },
   "file_extension": ".py",
   "mimetype": "text/x-python",
   "name": "python",
   "nbconvert_exporter": "python",
   "pygments_lexer": "ipython3",
   "version": "3.10.11"
  }
 },
 "nbformat": 4,
 "nbformat_minor": 5
}
